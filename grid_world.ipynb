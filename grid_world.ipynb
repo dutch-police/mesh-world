{
 "cells": [
  {
   "cell_type": "markdown",
   "metadata": {},
   "source": [
    "# Сеточный мир"
   ]
  },
  {
   "cell_type": "markdown",
   "metadata": {},
   "source": [
    "## Постановка задачи"
   ]
  },
  {
   "cell_type": "markdown",
   "metadata": {},
   "source": [
    "Условия: задана матрица состояний 5х5, функция ценности перехода из одного состояния в другое, $\\gamma = 0.9$. Стратегия выбора перехода (действия) - равновероятная."
   ]
  },
  {
   "cell_type": "markdown",
   "metadata": {},
   "source": [
    "Задача: для каждого состояния вычислить его ценность. Вычисления провести двумя методами: путём решения СЛАУ и методом Монте-Карло."
   ]
  },
  {
   "cell_type": "markdown",
   "metadata": {},
   "source": [
    "<img src=\"mesh_world_problem.png\" width=600 height=600/>"
   ]
  },
  {
   "cell_type": "markdown",
   "metadata": {},
   "source": [
    "## Решение"
   ]
  },
  {
   "cell_type": "markdown",
   "metadata": {},
   "source": [
    "### Монте-Карло"
   ]
  },
  {
   "cell_type": "markdown",
   "metadata": {},
   "source": [
    "Определим функцию, которая делает броски по Монте-Карло и для перехода из одного состояния в другое пользуется предоставленной стратегией.\n",
    "\n",
    "Стратегия - это функция, которая принимает на вход текущее состояние и возвращает следующее состояние и награду за переход в следующее состояние."
   ]
  },
  {
   "cell_type": "code",
   "execution_count": 69,
   "metadata": {},
   "outputs": [],
   "source": [
    "from typing import Callable, Tuple\n",
    "\n",
    "import numpy as np\n",
    "\n",
    "def mc_solution(\n",
    "        strategy: Callable[[int, int], Tuple[int, int, float]],\n",
    "        width: int=5, \n",
    "        height: int=5, \n",
    "        gamma: float=0.9, \n",
    "        exp_cnt: int=10**6\n",
    "    ):\n",
    "    '''\n",
    "    Monte-Carlo based solution. Model `exp_cnt` experiments, extract average out of results.\n",
    "    Arguments:\n",
    "    * width, height - size of statuses' matrix.\n",
    "    * gamma - decay coefficient.\n",
    "    * exp_cnt - number of experiments per state.\n",
    "    * strategy - callable object, which accepts current state (starting from (1,1)) and returns next state (also starting from (1,1))\n",
    "and reward for passing to this state.\n",
    "    \n",
    "    Returns numpy.ndarray of size height*width, which elements are value function of corresponding state.\n",
    "    '''\n",
    "    def _make_throw(i, j, gamma, gamma_i = -1):\n",
    "        eps = 1/10**10\n",
    "        result_i = 0.\n",
    "        gamma_i = gamma if gamma_i == -1 else gamma_i\n",
    "        \n",
    "        next_i, next_j, reward = strategy(i, j)\n",
    "        result_i += reward\n",
    "        if gamma_i >= eps:\n",
    "            result_i += gamma_i * _make_throw(next_i, next_j, gamma, gamma_i*gamma)\n",
    "        \n",
    "        return result_i\n",
    "    \n",
    "    result = np.zeros((height, width))\n",
    "    \n",
    "    for i in range(height):\n",
    "        for j in range(width):\n",
    "            total_value = 0.\n",
    "            \n",
    "            for _ in range(exp_cnt):\n",
    "                total_value += _make_throw(i+1, j+1, gamma)\n",
    "            result[i,j] = total_value / exp_cnt\n",
    "            \n",
    "    return result"
   ]
  },
  {
   "cell_type": "markdown",
   "metadata": {},
   "source": [
    "Определим стратегию, которая соответствует нашей задаче."
   ]
  },
  {
   "cell_type": "code",
   "execution_count": 61,
   "metadata": {},
   "outputs": [],
   "source": [
    "import numpy as np\n",
    "\n",
    "def strategy(i: int, j: int):\n",
    "    possible_states = [\n",
    "        (i+1, j),\n",
    "        (i-1, j),\n",
    "        (i, j+1),\n",
    "        (i, j-1)\n",
    "    ]\n",
    "    reward = 0.\n",
    "    \n",
    "    next_state = possible_states[np.random.randint(0, len(possible_states))]\n",
    "    \n",
    "    # Check for special states.\n",
    "    if i == 1 and j == 2:\n",
    "        next_state = (5,2)\n",
    "        reward = 10.\n",
    "    elif i == 1 and j == 4:\n",
    "        next_state = (3,4)\n",
    "        reward = 5.\n",
    "        \n",
    "    # Check if we are out of grid.\n",
    "    if next_state[0] < 1 or next_state[0] > 5 or \\\n",
    "       next_state[1] < 1 or next_state[1] > 5:\n",
    "        next_state = (i,j)\n",
    "        reward = -1.\n",
    "    \n",
    "    return *next_state, reward"
   ]
  },
  {
   "cell_type": "code",
   "execution_count": 70,
   "metadata": {},
   "outputs": [
    {
     "name": "stdout",
     "output_type": "stream",
     "text": [
      "[[ 2.59008863  9.29338037  4.3727448   5.15254297  0.92513858]\n",
      " [ 0.5995925   2.69892745  1.21601399  1.21520269  0.08390912]\n",
      " [-0.28401662  0.8429217   0.55434667  0.12485087 -0.53017915]\n",
      " [-0.76850065 -0.3020796  -0.31179786 -0.30295974 -1.00429402]\n",
      " [-1.35037959 -0.87185098 -0.90029531 -1.02843573 -1.36728573]]\n"
     ]
    }
   ],
   "source": [
    "print(mc_solution(strategy, exp_cnt=100))"
   ]
  },
  {
   "cell_type": "code",
   "execution_count": 71,
   "metadata": {},
   "outputs": [
    {
     "name": "stdout",
     "output_type": "stream",
     "text": [
      "[[ 2.73983627  9.33731714  4.19677705  5.10553856  0.86750267]\n",
      " [ 0.70182923  2.73347021  1.66447612  1.43920198 -0.03295197]\n",
      " [-0.30296316  0.3774904   0.34254814  0.11977708 -0.50073423]\n",
      " [-0.8325209  -0.26379081 -0.2151442  -0.33771965 -0.81545179]\n",
      " [-1.32791454 -0.86352696 -0.77811689 -0.90545633 -1.38192767]]\n"
     ]
    }
   ],
   "source": [
    "print(mc_solution(strategy, exp_cnt=1000))"
   ]
  },
  {
   "cell_type": "code",
   "execution_count": null,
   "metadata": {},
   "outputs": [],
   "source": [
    "print(mc_solution(strategy, exp_cnt=10000))"
   ]
  },
  {
   "cell_type": "code",
   "execution_count": null,
   "metadata": {},
   "outputs": [],
   "source": []
  }
 ],
 "metadata": {
  "kernelspec": {
   "display_name": "Python 3",
   "language": "python",
   "name": "python3"
  },
  "language_info": {
   "codemirror_mode": {
    "name": "ipython",
    "version": 3
   },
   "file_extension": ".py",
   "mimetype": "text/x-python",
   "name": "python",
   "nbconvert_exporter": "python",
   "pygments_lexer": "ipython3",
   "version": "3.8.3"
  }
 },
 "nbformat": 4,
 "nbformat_minor": 4
}
