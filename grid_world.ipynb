{
 "cells": [
  {
   "cell_type": "markdown",
   "metadata": {},
   "source": [
    "# Сеточный мир"
   ]
  },
  {
   "cell_type": "markdown",
   "metadata": {},
   "source": [
    "## Постановка задачи"
   ]
  },
  {
   "cell_type": "markdown",
   "metadata": {},
   "source": [
    "Условия: задана матрица состояний 5х5, функция ценности перехода из одного состояния в другое, $\\gamma = 0.9$. Стратегия выбора перехода (действия) - равновероятная."
   ]
  },
  {
   "cell_type": "markdown",
   "metadata": {},
   "source": [
    "Задача: для каждого состояния вычислить его ценность. Вычисления провести двумя методами: путём решения СЛАУ и методом Монте-Карло."
   ]
  },
  {
   "cell_type": "markdown",
   "metadata": {},
   "source": [
    "<img src=\"mesh_world_problem.png\" width=600 height=600/>"
   ]
  },
  {
   "cell_type": "markdown",
   "metadata": {},
   "source": [
    "## Решение"
   ]
  },
  {
   "cell_type": "markdown",
   "metadata": {},
   "source": [
    "### Монте-Карло"
   ]
  },
  {
   "cell_type": "markdown",
   "metadata": {},
   "source": [
    "Определим функцию, которая делает броски по Монте-Карло и для перехода из одного состояния в другое пользуется предоставленной стратегией.\n",
    "\n",
    "Стратегия - это функция, которая принимает на вход текущее состояние и возвращает следующее состояние и награду за переход в следующее состояние."
   ]
  },
  {
   "cell_type": "code",
   "execution_count": 63,
   "metadata": {},
   "outputs": [],
   "source": [
    "from typing import Callable, Tuple\n",
    "\n",
    "import numpy as np\n",
    "\n",
    "def mc_solution(\n",
    "        strategy: Callable[[int, int], Tuple[int, int, float]],\n",
    "        width: int=5, \n",
    "        height: int=5, \n",
    "        gamma: float=0.9, \n",
    "        exp_cnt: int=10**6\n",
    "    ):\n",
    "    '''\n",
    "    Monte-Carlo based solution. Model `exp_cnt` experiments, extract average out of results.\n",
    "    Arguments:\n",
    "    * width, height - size of statuses' matrix.\n",
    "    * gamma - decay coefficient.\n",
    "    * exp_cnt - number of experiments per state.\n",
    "    * strategy - callable object, which accepts current state (starting from (1,1)) and returns next state (also starting from (1,1))\n",
    "and reward for passing to this state.\n",
    "    \n",
    "    Returns numpy.ndarray of size height*width, which elements are value function of corresponding state.\n",
    "    '''\n",
    "    def _make_throw(i, j, gamma, gamma_i = -1):\n",
    "        eps = 1/10**10\n",
    "        result_i = 0.\n",
    "        gamma_i = 1. if gamma_i == -1 else gamma_i\n",
    "        \n",
    "        next_i, next_j, reward = strategy(i, j)\n",
    "        result_i += reward\n",
    "        if gamma_i >= eps:\n",
    "            result_i += gamma_i * _make_throw(next_i, next_j, gamma, gamma_i*gamma)\n",
    "        \n",
    "        return result_i\n",
    "    \n",
    "    result = np.zeros((height, width))\n",
    "    \n",
    "    for i in range(height):\n",
    "        for j in range(width):\n",
    "            total_value = 0.\n",
    "            \n",
    "            for _ in range(exp_cnt):\n",
    "                total_value += _make_throw(i+1, j+1, gamma)\n",
    "            result[i,j] = total_value / exp_cnt\n",
    "            \n",
    "    return result"
   ]
  },
  {
   "cell_type": "markdown",
   "metadata": {},
   "source": [
    "Определим стратегию, которая соответствует нашей задаче."
   ]
  },
  {
   "cell_type": "code",
   "execution_count": 61,
   "metadata": {},
   "outputs": [],
   "source": [
    "import numpy as np\n",
    "\n",
    "def strategy(i: int, j: int):\n",
    "    possible_states = [\n",
    "        (i+1, j),\n",
    "        (i-1, j),\n",
    "        (i, j+1),\n",
    "        (i, j-1)\n",
    "    ]\n",
    "    reward = 0.\n",
    "    \n",
    "    next_state = possible_states[np.random.randint(0, len(possible_states))]\n",
    "    \n",
    "    # Check for special states.\n",
    "    if i == 1 and j == 2:\n",
    "        next_state = (5,2)\n",
    "        reward = 10.\n",
    "    elif i == 1 and j == 4:\n",
    "        next_state = (3,4)\n",
    "        reward = 5.\n",
    "        \n",
    "    # Check if we are out of grid.\n",
    "    if next_state[0] < 1 or next_state[0] > 5 or \\\n",
    "       next_state[1] < 1 or next_state[1] > 5:\n",
    "        next_state = (i,j)\n",
    "        reward = -1.\n",
    "    \n",
    "    return *next_state, reward"
   ]
  },
  {
   "cell_type": "code",
   "execution_count": 67,
   "metadata": {},
   "outputs": [
    {
     "name": "stdout",
     "output_type": "stream",
     "text": [
      "[[ 3.67577553  9.0201432   5.16116386  4.879547    0.8786607 ]\n",
      " [ 0.67416033  2.85436687  2.33963723  1.71869365  0.33817851]\n",
      " [-0.22989749  0.78508371  0.47520011  0.26074648 -0.51542042]\n",
      " [-0.92593223 -0.4721308  -0.11833887 -0.3299982  -0.92748807]\n",
      " [-1.67378479 -1.14624043 -0.90443456 -1.11698606 -1.45284828]]\n"
     ]
    }
   ],
   "source": [
    "print(mc_solution(strategy, exp_cnt=100))"
   ]
  },
  {
   "cell_type": "code",
   "execution_count": 68,
   "metadata": {},
   "outputs": [
    {
     "name": "stdout",
     "output_type": "stream",
     "text": [
      "[[ 3.18998517  9.12378622  4.8068365   5.10643625  1.23618533]\n",
      " [ 1.14162823  2.90670846  2.12347752  1.73394727  0.26376396]\n",
      " [-0.25214037  0.56125874  0.46788667  0.11057135 -0.52175786]\n",
      " [-0.98357589 -0.38727904 -0.29676681 -0.47804009 -0.96894075]\n",
      " [-1.59937897 -1.0472233  -0.92292897 -1.14800085 -1.59396707]]\n"
     ]
    }
   ],
   "source": [
    "print(mc_solution(strategy, exp_cnt=1000))"
   ]
  },
  {
   "cell_type": "code",
   "execution_count": 65,
   "metadata": {},
   "outputs": [
    {
     "name": "stdout",
     "output_type": "stream",
     "text": [
      "[[ 3.38559175  9.10508137  4.76808648  5.16468559  1.24074107]\n",
      " [ 1.21789897  3.06073118  2.12267474  1.80069478  0.24472429]\n",
      " [-0.20123055  0.59199218  0.48739771  0.23498679 -0.55325175]\n",
      " [-0.94229253 -0.35285149 -0.26201975 -0.44296111 -1.01985765]\n",
      " [-1.5993659  -1.07901301 -0.95246321 -1.09656551 -1.60469628]]\n"
     ]
    }
   ],
   "source": [
    "print(mc_solution(strategy, exp_cnt=10000))"
   ]
  },
  {
   "cell_type": "code",
   "execution_count": null,
   "metadata": {},
   "outputs": [],
   "source": []
  }
 ],
 "metadata": {
  "kernelspec": {
   "display_name": "Python 3",
   "language": "python",
   "name": "python3"
  },
  "language_info": {
   "codemirror_mode": {
    "name": "ipython",
    "version": 3
   },
   "file_extension": ".py",
   "mimetype": "text/x-python",
   "name": "python",
   "nbconvert_exporter": "python",
   "pygments_lexer": "ipython3",
   "version": "3.8.3"
  }
 },
 "nbformat": 4,
 "nbformat_minor": 4
}
